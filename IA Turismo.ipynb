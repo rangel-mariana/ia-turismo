{
 "cells": [
  {
   "cell_type": "markdown",
   "id": "7d62d925",
   "metadata": {},
   "source": [
    "#  Projeto de Roteirização Turística \n",
    "\n",
    "Este notebook implementa o projeto completo de recomendação turística com RAG, utilizando:\n",
    "- `Router Chain` para classificar a pergunta\n",
    "- Cadeias específicas: roteiro, logística, info local\n",
    "- Pinecone para base vetorial com RAG\n",
    "- LLM da Groq para gerar respostas\n",
    "\n",
    "\n",
    "Aluna: Mariana Santos Rangel - SAEG\n"
   ]
  },
  {
   "cell_type": "markdown",
   "id": "c30418b8",
   "metadata": {},
   "source": [
    "## 1. Setup: Instalação e Imports"
   ]
  },
  {
   "cell_type": "code",
   "execution_count": 1,
   "id": "8b1b8fb1",
   "metadata": {},
   "outputs": [
    {
     "name": "stderr",
     "output_type": "stream",
     "text": [
      "/home/mariana/venv310/lib/python3.10/site-packages/langchain_pinecone/__init__.py:3: LangChainDeprecationWarning: As of langchain-core 0.3.0, LangChain uses pydantic v2 internally. The langchain_core.pydantic_v1 module was a compatibility shim for pydantic v1, and should no longer be used. Please update the code to import from Pydantic directly.\n",
      "\n",
      "For example, replace imports like: `from langchain_core.pydantic_v1 import BaseModel`\n",
      "with: `from pydantic import BaseModel`\n",
      "or the v1 compatibility namespace if you are working in a code base that has not been fully upgraded to pydantic 2 yet. \tfrom pydantic.v1 import BaseModel\n",
      "\n",
      "  from langchain_pinecone.vectorstores import Pinecone, PineconeVectorStore\n"
     ]
    }
   ],
   "source": [
    "from langchain_community.vectorstores import Pinecone\n",
    "from langchain_huggingface import HuggingFaceEmbeddings\n",
    "from langchain_core.documents import Document\n",
    "from langchain.text_splitter import RecursiveCharacterTextSplitter\n",
    "from langchain_groq import ChatGroq\n",
    "from langchain.chains import RetrievalQA\n",
    "from langchain.prompts import PromptTemplate\n",
    "from dotenv import load_dotenv\n",
    "from pinecone import Pinecone, ServerlessSpec\n",
    "import numpy as np\n",
    "import pathlib\n",
    "import json\n",
    "import os\n",
    "from typing import List, Dict\n",
    "from langchain_pinecone import Pinecone as PineconeVectorStore\n",
    "import time\n",
    "from unidecode import unidecode\n",
    "\n"
   ]
  },
  {
   "cell_type": "markdown",
   "id": "ab608823",
   "metadata": {},
   "source": [
    "## 2. Configuração de Diretórios e Caminhos"
   ]
  },
  {
   "cell_type": "code",
   "execution_count": null,
   "id": "571d58ee",
   "metadata": {},
   "outputs": [],
   "source": [
    "#leitura das chaves\n",
    "load_dotenv(\"diretorio/.env\", override=True)\n",
    "\n",
    "# Caminho do dataset turístico\n",
    "data_path = \"diretorio/dados_turisticos.jsonl\"\n",
    "\n",
    "# Diretório para salvar artefatos do projeto (textos + vetores)\n",
    "art_dir = pathlib.Path(\"artifacts\")\n",
    "art_dir.mkdir(exist_ok=True)\n",
    "\n",
    "# Caminhos de saída\n",
    "out_texts = art_dir / \"docs.jsonl\"\n",
    "out_vec = art_dir / \"vectors.npy\"\n",
    "\n",
    "# Campos obrigatórios do JSON\n",
    "REQUIRED = [\n",
    "    \"id\", \"city\", \"type\", \"name\", \"description\",\n",
    "    \"tags\", \"location\", \"hours\", \"price_range\", \"safety_tips\", \"lang\"\n",
    "]"
   ]
  },
  {
   "cell_type": "markdown",
   "id": "4192a533",
   "metadata": {},
   "source": [
    "## 3. Funções de Normalização e Conversão"
   ]
  },
  {
   "cell_type": "code",
   "execution_count": 3,
   "id": "0b632ba7",
   "metadata": {},
   "outputs": [],
   "source": [
    "# Leitura do .jsonl\n",
    "def load_jsonl(path: str) -> List[Dict]:\n",
    "    with open(path, \"r\", encoding=\"utf-8\") as f:\n",
    "        return [json.loads(line.strip()) for line in f if line.strip()]"
   ]
  },
  {
   "cell_type": "code",
   "execution_count": 4,
   "id": "0ea7b0b2",
   "metadata": {},
   "outputs": [],
   "source": [
    "# Garante presença dos campos obrigatórios\n",
    "def normalize(rec: Dict) -> Dict:\n",
    "    norm = {k: rec.get(k) for k in REQUIRED}\n",
    "    norm[\"tags\"] = norm.get(\"tags\") or []\n",
    "    return norm\n",
    "\n"
   ]
  },
  {
   "cell_type": "code",
   "execution_count": 5,
   "id": "06240761",
   "metadata": {},
   "outputs": [],
   "source": [
    "# Gera documento do LangChain\n",
    "def to_document(rec: Dict) -> Document:\n",
    "    tags = \", \".join(rec.get(\"tags\", []))\n",
    "    content = (\n",
    "        f\"{rec['name']} — {rec['type']} em {rec['city']} ({rec['location']}). \"\n",
    "        f\"{rec['description']} | Horários: {rec['hours']} | Preço: {rec['price_range']} | \"\n",
    "        f\"Tags: {tags} | Dicas: {rec['safety_tips']}\"\n",
    "    )\n",
    "    meta = {k: rec[k] for k in rec if k != \"city\"}\n",
    "  \n",
    "    return Document(page_content=content, metadata=meta)"
   ]
  },
  {
   "cell_type": "markdown",
   "id": "3ad82cb8",
   "metadata": {},
   "source": [
    "## 4. Chunking (divisão dos documentos)"
   ]
  },
  {
   "cell_type": "code",
   "execution_count": 6,
   "id": "73b31c05",
   "metadata": {},
   "outputs": [],
   "source": [
    "# Divide os textos longos em partes menores\n",
    "def chunk_docs(docs: List[Document]) -> List[Document]:\n",
    "    return RecursiveCharacterTextSplitter(chunk_size=600, chunk_overlap=80).split_documents(docs)"
   ]
  },
  {
   "cell_type": "markdown",
   "id": "4fe07a5d",
   "metadata": {},
   "source": [
    "## 5. Gerador de Embeddings (MiniLM-L6-v2)"
   ]
  },
  {
   "cell_type": "code",
   "execution_count": 7,
   "id": "3d1d5750",
   "metadata": {},
   "outputs": [],
   "source": [
    "def get_embedder():\n",
    "    return HuggingFaceEmbeddings(model_name=\"sentence-transformers/all-MiniLM-L6-v2\")"
   ]
  },
  {
   "cell_type": "markdown",
   "id": "41c270d3",
   "metadata": {},
   "source": [
    "## 6. Execução do pipeline"
   ]
  },
  {
   "cell_type": "code",
   "execution_count": 8,
   "id": "846b7338",
   "metadata": {},
   "outputs": [],
   "source": [
    "# Executa o pipeline de processamento da base\n",
    "raw = load_jsonl(data_path)\n",
    "docs = [to_document(normalize(r)) for r in raw]\n",
    "chunks = chunk_docs(docs)\n",
    "embedder = get_embedder()\n",
    "vectors = np.array(embedder.embed_documents([d.page_content for d in chunks]), dtype=\"float32\")\n"
   ]
  },
  {
   "cell_type": "markdown",
   "id": "37aa1b3b",
   "metadata": {},
   "source": [
    "## 7. Salvando os vetores e textos"
   ]
  },
  {
   "cell_type": "code",
   "execution_count": 9,
   "id": "0f1a487e",
   "metadata": {},
   "outputs": [],
   "source": [
    "# Salva textos com metadados\n",
    "with open(out_texts, \"w\", encoding=\"utf-8\") as f:\n",
    "    for doc in chunks:\n",
    "        record = {\n",
    "            \"text\": doc.page_content,\n",
    "            \"metadata\": doc.metadata\n",
    "        }\n",
    "        f.write(json.dumps(record, ensure_ascii=False) + \"\\n\")\n",
    "\n",
    "# Salva vetor numpy\n",
    "np.save(out_vec, vectors)"
   ]
  },
  {
   "cell_type": "markdown",
   "id": "bbf31cf6",
   "metadata": {},
   "source": [
    "## 8. Pinecone: Conexão e Indexação"
   ]
  },
  {
   "cell_type": "code",
   "execution_count": 10,
   "id": "ea48040c",
   "metadata": {},
   "outputs": [
    {
     "name": "stdout",
     "output_type": "stream",
     "text": [
      "✅ Conectado ao índice: ia-turismo\n"
     ]
    }
   ],
   "source": [
    "# Conecta à conta\n",
    "pc = Pinecone(api_key=os.getenv(\"PINECONE_API_KEY\"))\n",
    "index_name = os.getenv(\"PINECONE_INDEX_NAME\")\n",
    "\n",
    "# Exclua índice antigo se existir\n",
    "if index_name in [i[\"name\"] for i in pc.list_indexes()]:\n",
    "    pc.delete_index(index_name)\n",
    "    time.sleep(2)\n",
    "# Cria índice se não existir\n",
    "if index_name not in [i[\"name\"] for i in pc.list_indexes()]:\n",
    "    pc.create_index(\n",
    "        name=index_name,\n",
    "        dimension=384,\n",
    "        metric=\"cosine\",\n",
    "        spec=ServerlessSpec(cloud=\"aws\", region=\"us-east-1\")\n",
    "    )\n",
    "\n",
    "# Conecta ao índice\n",
    "index = pc.Index(index_name)\n",
    "print(f\"✅ Conectado ao índice: {index_name}\")\n",
    "\n",
    "\n",
    "\n"
   ]
  },
  {
   "cell_type": "markdown",
   "id": "bbc06a86",
   "metadata": {},
   "source": [
    "## 9. Indexando os vetores no Pinecone"
   ]
  },
  {
   "cell_type": "code",
   "execution_count": 11,
   "id": "92540eb8",
   "metadata": {},
   "outputs": [
    {
     "name": "stdout",
     "output_type": "stream",
     "text": [
      "✅ Indexados 20 vetores.\n"
     ]
    }
   ],
   "source": [
    "# Reindexa todos os chunks no Pinecone\n",
    "ids = [f\"doc_{i}\" for i in range(len(chunks))]\n",
    "metadata_list = [doc.metadata for doc in chunks]\n",
    "\n",
    "# Formata os vetores para o Pinecone\n",
    "to_upsert = list(zip(ids, vectors.tolist(), metadata_list))\n",
    "\n",
    "# Envia os dados ao índice\n",
    "index.upsert(vectors=to_upsert)\n",
    "print(f\"✅ Indexados {len(to_upsert)} vetores.\")\n"
   ]
  },
  {
   "cell_type": "markdown",
   "id": "b306904e",
   "metadata": {},
   "source": [
    "## RAG (modelo + Pinecone)"
   ]
  },
  {
   "cell_type": "code",
   "execution_count": 12,
   "id": "cab03f19",
   "metadata": {},
   "outputs": [],
   "source": [
    "\n",
    "# Conectar e criar índice Pinecone com dimensão 384\n",
    "llm = ChatGroq(model_name='llama-3.3-70b-versatile', temperature=0)\n",
    "\n",
    "index_name = \"ia-turismo\"  \n",
    "\n",
    "\n",
    "vectorstore = PineconeVectorStore.from_documents(\n",
    "    documents=chunks,\n",
    "    embedding=embedder,\n",
    "    index_name=index_name\n",
    ")\n",
    "\n",
    "retriever = vectorstore.as_retriever()\n",
    "chains = RetrievalQA.from_chain_type(llm=llm, retriever=retriever)\n"
   ]
  },
  {
   "cell_type": "markdown",
   "id": "6f659ca5",
   "metadata": {},
   "source": [
    "## 11. Templates"
   ]
  },
  {
   "cell_type": "code",
   "execution_count": 13,
   "id": "52852bf8",
   "metadata": {},
   "outputs": [],
   "source": [
    "# Template para roteiro turístico\n",
    "template_roteiro = \"\"\"Você é um guia de turismo inteligente.\n",
    "Com base nas informações abaixo, gere um roteiro de viagem personalizado.\n",
    ".Se faltar dado, diga que não encontrou no contexto.\n",
    "Contexto: {context}\n",
    "Pergunta: {question}\n",
    "Roteiro:\"\"\"\n",
    "\n",
    "# Template para informações logísticas\n",
    "template_logistica = \"\"\"Você é um assistente de viagem. Com base nas informações abaixo, responda dúvidas sobre transporte, acomodações e deslocamentos.\n",
    "Contexto: {context}\n",
    "Pergunta: {question}\n",
    "Resposta:\"\"\"\n",
    "\n",
    "# Template para informações locais (restaurantes, horários, etc.)\n",
    "template_info_local = \"\"\"Você é um guia local. Responda à pergunta com base nas informações abaixo.\n",
    "Contexto: {context}\n",
    "Pergunta: {question}\n",
    "Resposta:\"\"\"\n"
   ]
  },
  {
   "cell_type": "markdown",
   "id": "e78de5b6",
   "metadata": {},
   "source": [
    "## 12. Cadeias Especializadas (Chains)"
   ]
  },
  {
   "cell_type": "code",
   "execution_count": 14,
   "id": "0a0d84bf",
   "metadata": {},
   "outputs": [],
   "source": [
    "def build_chain(template):\n",
    "    prompt = PromptTemplate.from_template(template)\n",
    "    return RetrievalQA.from_chain_type(\n",
    "        llm=llm,\n",
    "        chain_type=\"stuff\",\n",
    "        retriever=retriever,\n",
    "        chain_type_kwargs={\"prompt\": prompt}\n",
    "    )\n",
    "\n",
    "# Dicionário de cadeias disponíveis\n",
    "chains = {\n",
    "    \"roteiro-viagem\": build_chain(template_roteiro),\n",
    "    \"logistica-transporte\": build_chain(template_logistica),\n",
    "    \"info-local\": build_chain(template_info_local),\n",
    "}"
   ]
  },
  {
   "cell_type": "markdown",
   "id": "a24655e2",
   "metadata": {},
   "source": [
    "## 13. Roteador Simples com Classificação por Palavra-chave"
   ]
  },
  {
   "cell_type": "code",
   "execution_count": 15,
   "id": "72d556fb",
   "metadata": {},
   "outputs": [],
   "source": [
    "def classify_question(user_query: str) -> str:\n",
    "    query = user_query.lower()\n",
    "\n",
    "    if any(kw in query for kw in [\"roteiro\", \"itinerário\", \"viagem\", \"dias\"]):\n",
    "        return \"roteiro-viagem\"\n",
    "    elif any(kw in query for kw in [\"metrô\", \"ônibus\", \"como chegar\", \"transporte\", \"hospedagem\", \"hotel\"]):\n",
    "        return \"logistica-transporte\"\n",
    "    elif any(kw in query for kw in [\"restaurante\", \"funciona\", \"preço\", \"horário\", \"ingresso\", \"aberto\"]):\n",
    "        return \"info-local\"\n",
    "    else:\n",
    "        return \"info-local\"  # fallback padrão"
   ]
  },
  {
   "cell_type": "markdown",
   "id": "0cf0aa6b",
   "metadata": {},
   "source": [
    "## 14. Função Final de Consulta (pergunta do usuário)"
   ]
  },
  {
   "cell_type": "code",
   "execution_count": 16,
   "id": "1b05a2ae",
   "metadata": {},
   "outputs": [],
   "source": [
    "def responder_pergunta(pergunta: str):\n",
    "    categoria = classify_question(pergunta)\n",
    "    resposta = chains[categoria].run(pergunta)\n",
    "    return resposta\n",
    "\n"
   ]
  },
  {
   "cell_type": "code",
   "execution_count": 19,
   "id": "94238383",
   "metadata": {},
   "outputs": [
    {
     "data": {
      "text/markdown": [
       "## ✨ IA de Turismo"
      ],
      "text/plain": [
       "<IPython.core.display.Markdown object>"
      ]
     },
     "metadata": {},
     "output_type": "display_data"
    },
    {
     "data": {
      "text/markdown": [
       "Peça roteiros, sugestões de passeios, restaurantes, eventos e mais. Ex: *Roteiro para Amsterdã de 3 dias.*"
      ],
      "text/plain": [
       "<IPython.core.display.Markdown object>"
      ]
     },
     "metadata": {},
     "output_type": "display_data"
    },
    {
     "data": {
      "application/vnd.jupyter.widget-view+json": {
       "model_id": "d3d56d273b1c4addaa90400a6ebd266d",
       "version_major": 2,
       "version_minor": 0
      },
      "text/plain": [
       "Text(value='Roteiro para Amsterdã', layout=Layout(width='100%'), placeholder='Digite sua pergunta aqui...')"
      ]
     },
     "metadata": {},
     "output_type": "display_data"
    },
    {
     "data": {
      "application/vnd.jupyter.widget-view+json": {
       "model_id": "6b7d05fd367f4e508d3413909d6f343d",
       "version_major": 2,
       "version_minor": 0
      },
      "text/plain": [
       "Button(button_style='success', description='Gerar Resposta ✈️', style=ButtonStyle())"
      ]
     },
     "metadata": {},
     "output_type": "display_data"
    },
    {
     "data": {
      "application/vnd.jupyter.widget-view+json": {
       "model_id": "7e9a3950263d4690a7530f207cbe2700",
       "version_major": 2,
       "version_minor": 0
      },
      "text/plain": [
       "Output()"
      ]
     },
     "metadata": {},
     "output_type": "display_data"
    },
    {
     "data": {
      "text/plain": [
       "''"
      ]
     },
     "execution_count": 19,
     "metadata": {},
     "output_type": "execute_result"
    }
   ],
   "source": [
    "import ipywidgets as widgets\n",
    "from IPython.display import display, Markdown, clear_output\n",
    "\n",
    "# Título\n",
    "display(Markdown(\"## ✨ IA de Turismo\"))\n",
    "display(Markdown(\"Peça roteiros, sugestões de passeios, restaurantes, eventos e mais. Ex: *Roteiro para Amsterdã de 3 dias.*\"))\n",
    "\n",
    "# Campo de pergunta\n",
    "pergunta_input = widgets.Text(\n",
    "    value=\"Roteiro para Amsterdã\",\n",
    "    placeholder=\"Digite sua pergunta aqui...\",\n",
    "    layout=widgets.Layout(width='100%')\n",
    ")\n",
    "\n",
    "# Botão\n",
    "botao = widgets.Button(\n",
    "    description=\"Gerar Resposta ✈️\",\n",
    "    button_style=\"success\"\n",
    ")\n",
    "\n",
    "# Área de saída\n",
    "saida = widgets.Output()\n",
    "\n",
    "# Função de resposta\n",
    "def gerar_resposta(b):\n",
    "    with saida:\n",
    "        clear_output()\n",
    "        pergunta = pergunta_input.value.strip()\n",
    "        if not pergunta:\n",
    "            display(Markdown(\"⚠️ *Digite uma pergunta.*\"))\n",
    "            return\n",
    "        try:\n",
    "            resposta = responder_pergunta(pergunta)\n",
    "            resposta_formatada = resposta.get(\"result\") if isinstance(resposta, dict) else resposta\n",
    "            display(Markdown(f\"### 📩 **Pergunta:** {pergunta}\"))\n",
    "            display(Markdown(f\"### 🧭 **Resposta:**\\n\\n{resposta_formatada}\"))\n",
    "        except Exception as e:\n",
    "            display(Markdown(f\"❌ Erro: `{e}`\"))\n",
    "\n",
    "botao.on_click(gerar_resposta)\n",
    "\n",
    "# Exibir interface (⚠️ Não colocar como última linha!)\n",
    "display(pergunta_input, botao, saida)\n",
    "\n",
    "# Evita duplicação: adicione uma string “fantasma” no final\n",
    "\"\"\n"
   ]
  }
 ],
 "metadata": {
  "kernelspec": {
   "display_name": "venv310 (3.10.18)",
   "language": "python",
   "name": "python3"
  },
  "language_info": {
   "codemirror_mode": {
    "name": "ipython",
    "version": 3
   },
   "file_extension": ".py",
   "mimetype": "text/x-python",
   "name": "python",
   "nbconvert_exporter": "python",
   "pygments_lexer": "ipython3",
   "version": "3.10.18"
  }
 },
 "nbformat": 4,
 "nbformat_minor": 5
}
